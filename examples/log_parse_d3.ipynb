{
 "cells": [
  {
   "cell_type": "markdown",
   "metadata": {},
   "source": [
    "# Log Parse D3\n",
    "\n",
    "This page shows ..."
   ]
  },
  {
   "cell_type": "markdown",
   "metadata": {},
   "source": [
    "#### Setup the environment"
   ]
  },
  {
   "cell_type": "code",
   "execution_count": 1,
   "metadata": {
    "collapsed": true
   },
   "outputs": [],
   "source": [
    "%matplotlib inline\n",
    "%config InlineBackend.figure_format = 'svg'\n",
    "import pycamhd.pycamhd as camhd\n",
    "import numpy as np\n",
    "import matplotlib.pyplot as plt\n",
    "import requests\n",
    "import itertools\n",
    "import os.path\n",
    "from numpngw import write_png"
   ]
  },
  {
   "cell_type": "markdown",
   "metadata": {},
   "source": [
    "#### Get a list of remote CamHD files to process"
   ]
  },
  {
   "cell_type": "code",
   "execution_count": 2,
   "metadata": {
    "collapsed": true
   },
   "outputs": [],
   "source": [
    "filenames = []\n",
    "with open('d3.txt') as f:\n",
    "    for line in f:\n",
    "        filenames.append(line.strip())"
   ]
  },
  {
   "cell_type": "markdown",
   "metadata": {},
   "source": [
    "#### Get the timestamp from each video file"
   ]
  },
  {
   "cell_type": "code",
   "execution_count": 3,
   "metadata": {
    "collapsed": true
   },
   "outputs": [],
   "source": [
    "#only do this once\n",
    "#movtimes = []\n",
    "#for filename in filenames:\n",
    "#    try:\n",
    "#        movtimes.append(camhd.get_timestamp(filename))\n",
    "#    except:\n",
    "#        print(filename)\n",
    "\n",
    "# now just read it from a file\n",
    "movtimes = []\n",
    "with open('d3_movtimes.csv', 'r') as csvfile:\n",
    "    for line in csvfile:\n",
    "        movtimes.append(line.split(',')[1].strip())"
   ]
  },
  {
   "cell_type": "markdown",
   "metadata": {},
   "source": [
    "#### Write start times to file"
   ]
  },
  {
   "cell_type": "code",
   "execution_count": 4,
   "metadata": {
    "collapsed": true
   },
   "outputs": [],
   "source": [
    "#with open('d4_movtimes.csv', 'w') as csvfile:\n",
    "#    for i, filename in enumerate(filenames):\n",
    "#        csvfile.write('%s,%s\\n' % (filename, movtimes[i]))"
   ]
  },
  {
   "cell_type": "markdown",
   "metadata": {},
   "source": [
    "#### Get list of log files (from local)"
   ]
  },
  {
   "cell_type": "code",
   "execution_count": 5,
   "metadata": {
    "collapsed": true
   },
   "outputs": [],
   "source": [
    "#%%time\n",
    "#logfiles = []\n",
    "#for i,filename in enumerate(filenames):\n",
    "#    logfile = '/data/camhda301_%s_%s.log' % (filename[96:102], filename[103:107])\n",
    "#    if os.path.isfile(logfile):\n",
    "#        logfiles.append(logfile)"
   ]
  },
  {
   "cell_type": "markdown",
   "metadata": {},
   "source": [
    "#### Get list of log file (from remote)"
   ]
  },
  {
   "cell_type": "code",
   "execution_count": 6,
   "metadata": {
    "collapsed": true
   },
   "outputs": [],
   "source": [
    "#%%time\n",
    "#logfiles = []\n",
    "#for i,filename in enumerate(filenames):\n",
    "#    logfile = '%s/camhda301_%s_%s.log' % (filename[0:83], filename[96:102], filename[103:107])\n",
    "#    r = requests.head(logfile)\n",
    "#    if r.status_code==200:\n",
    "#        logfiles.append(logfile)\n",
    "        #continue\n",
    "#    else:\n",
    "#        print(logfile)\n",
    "#        break\n",
    "        \n",
    "    #logfile = '%s/camhda301_%s_%s%s.log' % (filename[0:83], filename[96:102], filename[103:105], str(int(filename[105:107])-15))\n",
    "    #r = requests.head(logfile)\n",
    "    #print(logfile)\n",
    "    #break\n",
    "    #if r.status_code==200:\n",
    "    #    print(logfile)\n",
    "    #    logfiles.append(logfile)\n",
    "    #else:\n",
    "    #    logfiles.append(None)"
   ]
  },
  {
   "cell_type": "markdown",
   "metadata": {},
   "source": [
    "#### Read logtimes.csv"
   ]
  },
  {
   "cell_type": "code",
   "execution_count": 7,
   "metadata": {
    "collapsed": true
   },
   "outputs": [],
   "source": [
    "logfiles = []\n",
    "logtimes = []\n",
    "with open('logtimes.csv', 'r') as f:\n",
    "    for line in f:\n",
    "        logfiles.append(line.split(',')[0])\n",
    "        logtimes.append(line.split(',')[1].strip())"
   ]
  },
  {
   "cell_type": "markdown",
   "metadata": {},
   "source": [
    "#### Build d3_meta"
   ]
  },
  {
   "cell_type": "code",
   "execution_count": 8,
   "metadata": {
    "collapsed": true
   },
   "outputs": [],
   "source": [
    "d3_meta = []\n",
    "for i, filename in enumerate(filenames):\n",
    "    for j, logtime in enumerate(logtimes):\n",
    "        if int(movtimes[i]) > (int(logtime)-60) and int(movtimes[i]) < (int(logtime)+60):\n",
    "            d3_meta.append([filename, str(movtimes[i]), '/data/%s' % logfiles[j], str(logtime)])"
   ]
  },
  {
   "cell_type": "markdown",
   "metadata": {},
   "source": [
    "#### Get approximate time of p2z1 and append to d4_meta"
   ]
  },
  {
   "cell_type": "code",
   "execution_count": 9,
   "metadata": {
    "collapsed": true
   },
   "outputs": [],
   "source": [
    "def get_p2z1(logfile):\n",
    "    p2z1 = None\n",
    "    with open(logfile, 'r') as f:\n",
    "        for line in f:\n",
    "            if 'pan=143' in line or 'pan=145' in line:\n",
    "                for line in f:\n",
    "                    if 'time' in line[0:4]:\n",
    "                        p2z1 = line.split(' ')[1].strip()\n",
    "                        return p2z1"
   ]
  },
  {
   "cell_type": "code",
   "execution_count": 10,
   "metadata": {
    "collapsed": true
   },
   "outputs": [],
   "source": [
    "for entry in d3_meta:\n",
    "    p2z1 = get_p2z1(entry[2])\n",
    "    entry.append('p2z1')\n",
    "    entry.append(str(p2z1));"
   ]
  },
  {
   "cell_type": "markdown",
   "metadata": {},
   "source": [
    "#### Write out d3_meta"
   ]
  },
  {
   "cell_type": "code",
   "execution_count": 11,
   "metadata": {
    "collapsed": true
   },
   "outputs": [],
   "source": [
    "with open('d3_meta.csv', 'w') as f:\n",
    "    for entry in d3_meta:\n",
    "        f.write('%s,%s,%s,%s,%s,%s\\n' % (entry[0],entry[1],entry[2],entry[3],entry[4],entry[5]))"
   ]
  },
  {
   "cell_type": "markdown",
   "metadata": {},
   "source": [
    "#### Set up Dask delayed PNG write function"
   ]
  },
  {
   "cell_type": "code",
   "execution_count": 13,
   "metadata": {
    "collapsed": true
   },
   "outputs": [],
   "source": [
    "from dask.multiprocessing import get\n",
    "from dask import delayed, compute\n",
    "\n",
    "@delayed\n",
    "def delayed_write_png(entry):\n",
    "    filename = entry[0]\n",
    "    p2z1_frame = int(round((int(entry[5])-int(entry[1]))*29.97))\n",
    "    frame_numbers = np.arange(p2z1_frame+30*2,p2z1_frame+30*2+30*8,15)\n",
    "    frame_count = camhd.get_frame_count(filename)\n",
    "    if max(frame_numbers) <= frame_count:\n",
    "        for frame_number in frame_numbers:\n",
    "            frame = camhd.get_frame(filename, frame_number, 'gray16le')\n",
    "            png_file = \"d3/%s_%05.0d.png\" % (filename[84:], frame_number)\n",
    "            write_png(png_file, frame)\n",
    "    return 1"
   ]
  },
  {
   "cell_type": "code",
   "execution_count": null,
   "metadata": {
    "collapsed": true
   },
   "outputs": [],
   "source": [
    "dummy = []\n",
    "for entry in d3_meta:\n",
    "    dummy.append(delayed_write_png(entry))\n",
    "test = compute(*dummy)    "
   ]
  },
  {
   "cell_type": "code",
   "execution_count": 16,
   "metadata": {},
   "outputs": [
    {
     "data": {
      "text/plain": [
       "1772"
      ]
     },
     "execution_count": 16,
     "metadata": {},
     "output_type": "execute_result"
    }
   ],
   "source": [
    "len(test)"
   ]
  },
  {
   "cell_type": "code",
   "execution_count": null,
   "metadata": {},
   "outputs": [],
   "source": [
    "for entry in d3_meta:\n",
    "    filename = entry[0]\n",
    "    p2z1_frame = int(round((int(entry[5])-int(entry[1]))*29.97))\n",
    "    frame_numbers = np.arange(p2z1_frame+30*2,p2z1_frame+30*2+30*8,15)\n",
    "    frame_count = camhd.get_frame_count(filename)\n",
    "    if max(frame_numbers) <= frame_count:\n",
    "        for frame_number in frame_numbers:\n",
    "            frame = camhd.get_frame(filename, frame_number, 'gray16le')\n",
    "            png_file = \"d3/%s_%05.0d.png\" % (filename[84:], frame_number)\n",
    "            write_png(png_file, frame)"
   ]
  },
  {
   "cell_type": "code",
   "execution_count": null,
   "metadata": {
    "collapsed": true
   },
   "outputs": [],
   "source": [
    "#plt.plot(frame_numbers)\n",
    "trace = go.Scatter(y=logtimes-movtimes)\n",
    "data = [trace]\n",
    "py.iplot(data, filename='basic-line')"
   ]
  },
  {
   "cell_type": "code",
   "execution_count": null,
   "metadata": {
    "collapsed": true
   },
   "outputs": [],
   "source": [
    "%%time\n",
    "from numpngw import write_png\n",
    "for i,frame_number in enumerate(frame_numbers):\n",
    "    frame_number = frame_number-60\n",
    "    filename = d3_meta[i][0]\n",
    "    frame = camhd.get_frame(filename, frame_number, 'gray')\n",
    "    png_file = \"%s_%s.png\" % (filename[84:], frame_number)\n",
    "    write_png(png_file, frame)"
   ]
  },
  {
   "cell_type": "code",
   "execution_count": null,
   "metadata": {
    "collapsed": true
   },
   "outputs": [],
   "source": [
    "(p2z0times[0]-movtimes[0])*29.97"
   ]
  },
  {
   "cell_type": "code",
   "execution_count": null,
   "metadata": {
    "collapsed": true
   },
   "outputs": [],
   "source": [
    "frame_numbers[0]"
   ]
  },
  {
   "cell_type": "code",
   "execution_count": null,
   "metadata": {
    "collapsed": true
   },
   "outputs": [],
   "source": [
    "#def get_p2z0(logfile):\n",
    "#    p2z0 = ''\n",
    "#    r = requests.get(logfile, stream=True)\n",
    "#    for line in r.iter_lines():\n",
    "#        if 'pan=143' in str(line):\n",
    "#             for line in r.iter_lines():\n",
    "#                    if 'STOPPED' in str(line):\n",
    "#                        p2z0 = int(str(line).split(' ')[2].strip()[:-1])\n",
    "#                        break\n",
    "                        #return int(str(line).split(' ')[2].strip()[:-1])\n",
    "#    return p2z0"
   ]
  },
  {
   "cell_type": "code",
   "execution_count": null,
   "metadata": {
    "collapsed": true
   },
   "outputs": [],
   "source": [
    "def get_p2z0(logfile):\n",
    "    p2z0 = None\n",
    "    #print(logfile)\n",
    "    with open(logfile, 'r') as f:\n",
    "        for line in f:\n",
    "            #print(line)\n",
    "            if 'pan=143' in line:\n",
    "                #print(line)\n",
    "                for line in f:\n",
    "                    if 'STOPPED' in line:\n",
    "                        #p2z0 = line\n",
    "                        #print(line) \n",
    "                        p2z0 = int(line.split(' ')[2].strip()[:-1])\n",
    "                        #return line.split(' ')[2].strip()[:-1]\n",
    "                        #print(p2z0)\n",
    "                        return p2z0\n",
    "                        \n",
    "                        \n",
    "    #return p2z0"
   ]
  },
  {
   "cell_type": "code",
   "execution_count": null,
   "metadata": {
    "collapsed": true
   },
   "outputs": [],
   "source": [
    "for entry in d3_meta:\n",
    "    #print(i)\n",
    "    p2z1 = get_p2z1(entry[2])\n",
    "    entry.append('p2z1')\n",
    "    entry.append(str(p2z1));"
   ]
  },
  {
   "cell_type": "code",
   "execution_count": null,
   "metadata": {
    "collapsed": true
   },
   "outputs": [],
   "source": [
    "d3_meta[1]"
   ]
  },
  {
   "cell_type": "code",
   "execution_count": null,
   "metadata": {
    "collapsed": true
   },
   "outputs": [],
   "source": [
    "p2z0_frame = []\n",
    "for entry in d3_meta:\n",
    "    p2z0_frame.append(round((int(entry[5])-int(entry[1]))*29.97))"
   ]
  },
  {
   "cell_type": "code",
   "execution_count": null,
   "metadata": {
    "collapsed": true
   },
   "outputs": [],
   "source": [
    "trace = go.Scatter(y=p2z0_frame)\n",
    "data = [trace]\n",
    "py.iplot(data, filename='basic-line')"
   ]
  },
  {
   "cell_type": "code",
   "execution_count": null,
   "metadata": {
    "collapsed": true
   },
   "outputs": [],
   "source": [
    "with open('d3_meta.csv', 'w') as f:\n",
    "    for entry in d3_meta:\n",
    "        f.write('%s,%s,%s,%s,%s,%s\\n' % (entry[0],entry[1],entry[2],entry[3],entry[4],entry[5]))"
   ]
  },
  {
   "cell_type": "code",
   "execution_count": null,
   "metadata": {
    "collapsed": true
   },
   "outputs": [],
   "source": [
    "d3_meta[907]"
   ]
  },
  {
   "cell_type": "code",
   "execution_count": null,
   "metadata": {
    "collapsed": true
   },
   "outputs": [],
   "source": [
    "movtimes = np.empty((1,0), dtype=np.int32)\n",
    "logtimes = np.empty((1,0), dtype=np.int32)\n",
    "p2z0times = np.empty((1,0), dtype=np.int32)\n",
    "for entry in d3_meta:\n",
    "    movtimes = np.append(movtimes, int(entry[1]))\n",
    "    logtimes = np.append(logtimes, int(entry[3]))\n",
    "    p2z0times = np.append(p2z0times, int(entry[5]))\n",
    "   # movtimes.append(int(entry[1]))\n",
    "    #logtimes.append(int(entry[3]))\n",
    "    #p2z0times.append(int(entry[5]))"
   ]
  },
  {
   "cell_type": "code",
   "execution_count": null,
   "metadata": {
    "collapsed": true
   },
   "outputs": [],
   "source": []
  },
  {
   "cell_type": "code",
   "execution_count": null,
   "metadata": {
    "collapsed": true
   },
   "outputs": [],
   "source": [
    "def get_"
   ]
  },
  {
   "cell_type": "code",
   "execution_count": null,
   "metadata": {
    "collapsed": true
   },
   "outputs": [],
   "source": [
    "plt.ylim(0, 60000000)\n",
    "plt.plot(logtimes-min(logtimes));"
   ]
  },
  {
   "cell_type": "code",
   "execution_count": null,
   "metadata": {
    "collapsed": true
   },
   "outputs": [],
   "source": [
    "trace1 = go.Scatter(y=logtimes-min(logtimes))\n",
    "trace2 = go.Scatter(y=movtimes-min(movtimes))\n",
    "trace3 = go.Scatter(y= p2z0times-movtimes)\n",
    "data = [trace3]\n",
    "py.iplot(data, filename='basic-line')"
   ]
  },
  {
   "cell_type": "code",
   "execution_count": null,
   "metadata": {
    "collapsed": true
   },
   "outputs": [],
   "source": [
    "import plotly.plotly as py\n",
    "import plotly.graph_objs as go\n",
    "\n",
    "# Create random data with numpy\n",
    "import numpy as np\n",
    "\n",
    "N = 500\n",
    "random_x = np.linspace(0, 1, N)\n",
    "random_y = np.random.randn(N)\n",
    "\n",
    "# Create a trace\n",
    "trace = go.Scatter(\n",
    "    x = random_x,\n",
    "    y = random_y\n",
    ")\n",
    "\n",
    "data = [trace]\n",
    "\n",
    "py.iplot(data, filename='basic-line')\n",
    "dir(test)"
   ]
  },
  {
   "cell_type": "code",
   "execution_count": null,
   "metadata": {
    "collapsed": true
   },
   "outputs": [],
   "source": []
  },
  {
   "cell_type": "code",
   "execution_count": null,
   "metadata": {
    "collapsed": true
   },
   "outputs": [],
   "source": [
    "plt.ylim(40, 100)\n",
    "plt.xlim(790, 800)\n",
    "plt.plot(p2z0times-logtimes);"
   ]
  },
  {
   "cell_type": "code",
   "execution_count": null,
   "metadata": {
    "collapsed": true
   },
   "outputs": [],
   "source": [
    "d3_meta[796]"
   ]
  },
  {
   "cell_type": "code",
   "execution_count": null,
   "metadata": {
    "collapsed": true
   },
   "outputs": [],
   "source": [
    "mov_number = 700\n",
    "frame_number = int(round((int(d3_meta[mov_number][5])-int(d3_meta[mov_number][1]))*29.97))+60\n",
    "frame = camhd.get_frame(d3_meta[mov_number][0], frame_number, 'gray16le')\n",
    "fig, ax = plt.subplots()\n",
    "im1 = ax.imshow(frame)\n",
    "im1.set_cmap('gray');\n",
    "plt.title(frame_number)\n"
   ]
  },
  {
   "cell_type": "code",
   "execution_count": null,
   "metadata": {
    "collapsed": true
   },
   "outputs": [],
   "source": [
    "fig, ax = plt.subplots();\n",
    "im1 = ax.imshow(frame);\n",
    "im1.set_cmap('gray');"
   ]
  },
  {
   "cell_type": "code",
   "execution_count": null,
   "metadata": {
    "collapsed": true
   },
   "outputs": [],
   "source": [
    "for entry in d3_meta:\n",
    "    p2z0 = get_p2z0('%s' % entry[2])\n",
    "    #str(line).split(' ')[2].strip()[:-1]\n",
    "    print(p2z0)\n",
    "    #print(entry.append(3))\n",
    "    #entry.append('p2z0')\n",
    "    #entry.append(str(p2z0)\n",
    "    #print(entry)\n",
    "    #print(d3_meta[0])\n",
    "    if p2z0==0:\n",
    "        break\n",
    "\n",
    "print(entry)"
   ]
  },
  {
   "cell_type": "code",
   "execution_count": null,
   "metadata": {
    "collapsed": true
   },
   "outputs": [],
   "source": [
    "print(entry)"
   ]
  },
  {
   "cell_type": "code",
   "execution_count": null,
   "metadata": {
    "collapsed": true
   },
   "outputs": [],
   "source": [
    "','.join(str(d3_meta[1])"
   ]
  },
  {
   "cell_type": "code",
   "execution_count": null,
   "metadata": {
    "collapsed": true
   },
   "outputs": [],
   "source": [
    "print(d3_meta[1000])"
   ]
  },
  {
   "cell_type": "code",
   "execution_count": null,
   "metadata": {
    "collapsed": true
   },
   "outputs": [],
   "source": [
    "p2z0 = []\n",
    "for i, logfile in enumerate(logfiles):\n",
    "    p2z0.append(get_p2z0(logfile))"
   ]
  },
  {
   "cell_type": "code",
   "execution_count": null,
   "metadata": {
    "collapsed": true
   },
   "outputs": [],
   "source": [
    "p2z0"
   ]
  },
  {
   "cell_type": "code",
   "execution_count": null,
   "metadata": {
    "collapsed": true
   },
   "outputs": [],
   "source": [
    "print(logfiles[1400])"
   ]
  },
  {
   "cell_type": "code",
   "execution_count": null,
   "metadata": {
    "collapsed": true
   },
   "outputs": [],
   "source": [
    "test = []\n",
    "for i, logfile in enumerate(logfiles):\n",
    "    r = requests.get(logfile, stream=True)\n",
    "    for line in r.iter_lines():\n",
    "        #print(line)\n",
    "        if 'pan=143' in str(line):\n",
    "            for line in r.iter_lines():\n",
    "                #print(line)\n",
    "                if 'STOPPED' in str(line):\n",
    "                    #print(str(line).split(' ')[2].strip()[:-1])\n",
    "                    test.append(str(line).split(' ')[2].strip()[:-1])\n",
    "                    break\n",
    "                #break\n",
    "            #print(next(itertools.islice(r.iter_lines(), 4, 5)))\n",
    "            #break0\n",
    "            \n",
    "            #for line2 in r.iter_lines():\n",
    "            #    if 'STOPPED' in str(line2):\n",
    "            #        print(line2)\n",
    "            #print(line)\n",
    "            #continue\n",
    "    #test = next(itertools.islice(r.iter_lines(), 37, 38))\n",
    "    #print(test)\n",
    "    #if i==100:\n",
    "    #    break\n",
    "    \n",
    "\n",
    "#for i in range\n",
    "#print(next(r.iter_lines()))\n",
    "\n",
    "#for line in r.iter_lines():\n",
    "#    if line: print(line)\n",
    "print(len(test))"
   ]
  },
  {
   "cell_type": "code",
   "execution_count": null,
   "metadata": {
    "collapsed": true
   },
   "outputs": [],
   "source": []
  },
  {
   "cell_type": "code",
   "execution_count": null,
   "metadata": {
    "collapsed": true
   },
   "outputs": [],
   "source": [
    "len(filenames)"
   ]
  },
  {
   "cell_type": "code",
   "execution_count": null,
   "metadata": {
    "collapsed": true
   },
   "outputs": [],
   "source": [
    "type(r.iter_lines().next())"
   ]
  },
  {
   "cell_type": "markdown",
   "metadata": {},
   "source": [
    "#### Set up plotting function"
   ]
  },
  {
   "cell_type": "code",
   "execution_count": null,
   "metadata": {
    "collapsed": true
   },
   "outputs": [],
   "source": [
    "def show_image(file_number, frame_number):\n",
    "    filename = filenames[file_number]\n",
    "    plt.rc('figure', figsize=(10, 5))\n",
    "    plt.rcParams.update({'font.size': 8})\n",
    "    frame = camhd.get_frame(filename, frame_number, 'rgb24')\n",
    "    fig, ax = plt.subplots();\n",
    "    im1 = ax.imshow(frame);\n",
    "    plt.yticks(np.arange(0,1081,270))\n",
    "    plt.xticks(np.arange(0,1921,480))\n",
    "    #plt.title(filename[84:]);\n",
    "    plt.title(frame_number);"
   ]
  },
  {
   "cell_type": "markdown",
   "metadata": {},
   "source": [
    "#### Interact"
   ]
  },
  {
   "cell_type": "code",
   "execution_count": null,
   "metadata": {
    "collapsed": true
   },
   "outputs": [],
   "source": [
    "from ipywidgets import interact\n",
    "from ipywidgets import IntSlider\n",
    "file_slider = IntSlider(min=0, max=len(filenames)-1, step=1, value=0, continuous_update=False)\n",
    "frame_slider = IntSlider(min=0, max=camhd.get_frame_count(filenames[0]), step=1, value=0, continuous_update=False)\n",
    "\n",
    "def update_range(*args):\n",
    "    frame_slider.max = camhd.get_frame_count(filenames[file_slider.value])-1\n",
    "    if frame_slider.value > frame_slider.max:\n",
    "        frame_slider.value = frame_slider.max\n",
    "file_slider.observe(update_range, 'value')\n",
    "\n",
    "interact(show_image, file_number=file_slider, frame_number=frame_slider);"
   ]
  },
  {
   "cell_type": "markdown",
   "metadata": {},
   "source": [
    "### References\n",
    "\n",
    "PyCamHD: https://github.com/tjcrone/pycamhd<br>\n",
    "CamHDHub: https://github.com/tjcrone/camhdhub<br>\n",
    "Raw Data Archive: https://rawdata.oceanobservatories.org/files/RS03ASHS/PN03B/06-CAMHDA301/<br>"
   ]
  }
 ],
 "metadata": {
  "kernelspec": {
   "display_name": "Python 3",
   "language": "python",
   "name": "python3"
  },
  "language_info": {
   "codemirror_mode": {
    "name": "ipython",
    "version": 3
   },
   "file_extension": ".py",
   "mimetype": "text/x-python",
   "name": "python",
   "nbconvert_exporter": "python",
   "pygments_lexer": "ipython3",
   "version": "3.6.2"
  }
 },
 "nbformat": 4,
 "nbformat_minor": 2
}
