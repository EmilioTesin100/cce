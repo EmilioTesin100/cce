{
 "cells": [
  {
   "cell_type": "markdown",
   "metadata": {},
   "source": [
    "# Log Parse D3\n",
    "\n",
    "This page shows ..."
   ]
  },
  {
   "cell_type": "markdown",
   "metadata": {},
   "source": [
    "#### Setup the environment"
   ]
  },
  {
   "cell_type": "code",
   "execution_count": 1,
   "metadata": {
    "collapsed": true
   },
   "outputs": [],
   "source": [
    "%matplotlib inline\n",
    "%config InlineBackend.figure_format = 'svg'\n",
    "import pycamhd.pycamhd as camhd\n",
    "import numpy as np\n",
    "import matplotlib.pyplot as plt\n",
    "import requests\n",
    "import itertools\n",
    "import os.path\n",
    "from numpngw import write_png"
   ]
  },
  {
   "cell_type": "markdown",
   "metadata": {},
   "source": [
    "#### Get a list of remote CamHD files to process"
   ]
  },
  {
   "cell_type": "code",
   "execution_count": 2,
   "metadata": {
    "collapsed": true
   },
   "outputs": [],
   "source": [
    "filenames = []\n",
    "with open('d3.txt') as f:\n",
    "    for line in f:\n",
    "        filenames.append(line.strip())"
   ]
  },
  {
   "cell_type": "markdown",
   "metadata": {},
   "source": [
    "#### Get the timestamp from each video file"
   ]
  },
  {
   "cell_type": "code",
   "execution_count": 3,
   "metadata": {
    "collapsed": true
   },
   "outputs": [],
   "source": [
    "#only do this once\n",
    "#movtimes = []\n",
    "#for filename in filenames:\n",
    "#    try:\n",
    "#        movtimes.append(camhd.get_timestamp(filename))\n",
    "#    except:\n",
    "#        print(filename)\n",
    "\n",
    "# now just read it from a file\n",
    "movtimes = []\n",
    "with open('d3_movtimes.csv', 'r') as csvfile:\n",
    "    for line in csvfile:\n",
    "        movtimes.append(line.split(',')[1].strip())"
   ]
  },
  {
   "cell_type": "markdown",
   "metadata": {},
   "source": [
    "#### Write start times to file"
   ]
  },
  {
   "cell_type": "code",
   "execution_count": 4,
   "metadata": {
    "collapsed": true
   },
   "outputs": [],
   "source": [
    "#with open('d4_movtimes.csv', 'w') as csvfile:\n",
    "#    for i, filename in enumerate(filenames):\n",
    "#        csvfile.write('%s,%s\\n' % (filename, movtimes[i]))"
   ]
  },
  {
   "cell_type": "markdown",
   "metadata": {},
   "source": [
    "#### Get list of log files (from local)"
   ]
  },
  {
   "cell_type": "code",
   "execution_count": 5,
   "metadata": {
    "collapsed": true
   },
   "outputs": [],
   "source": [
    "#%%time\n",
    "#logfiles = []\n",
    "#for i,filename in enumerate(filenames):\n",
    "#    logfile = '/data/camhda301_%s_%s.log' % (filename[96:102], filename[103:107])\n",
    "#    if os.path.isfile(logfile):\n",
    "#        logfiles.append(logfile)"
   ]
  },
  {
   "cell_type": "markdown",
   "metadata": {},
   "source": [
    "#### Get list of log file (from remote)"
   ]
  },
  {
   "cell_type": "code",
   "execution_count": 6,
   "metadata": {
    "collapsed": true
   },
   "outputs": [],
   "source": [
    "#%%time\n",
    "#logfiles = []\n",
    "#for i,filename in enumerate(filenames):\n",
    "#    logfile = '%s/camhda301_%s_%s.log' % (filename[0:83], filename[96:102], filename[103:107])\n",
    "#    r = requests.head(logfile)\n",
    "#    if r.status_code==200:\n",
    "#        logfiles.append(logfile)\n",
    "        #continue\n",
    "#    else:\n",
    "#        print(logfile)\n",
    "#        break\n",
    "        \n",
    "    #logfile = '%s/camhda301_%s_%s%s.log' % (filename[0:83], filename[96:102], filename[103:105], str(int(filename[105:107])-15))\n",
    "    #r = requests.head(logfile)\n",
    "    #print(logfile)\n",
    "    #break\n",
    "    #if r.status_code==200:\n",
    "    #    print(logfile)\n",
    "    #    logfiles.append(logfile)\n",
    "    #else:\n",
    "    #    logfiles.append(None)"
   ]
  },
  {
   "cell_type": "markdown",
   "metadata": {},
   "source": [
    "#### Read logtimes.csv"
   ]
  },
  {
   "cell_type": "code",
   "execution_count": 7,
   "metadata": {
    "collapsed": true
   },
   "outputs": [],
   "source": [
    "logfiles = []\n",
    "logtimes = []\n",
    "with open('logtimes.csv', 'r') as f:\n",
    "    for line in f:\n",
    "        logfiles.append(line.split(',')[0])\n",
    "        logtimes.append(line.split(',')[1].strip())"
   ]
  },
  {
   "cell_type": "markdown",
   "metadata": {},
   "source": [
    "#### Build d3_meta"
   ]
  },
  {
   "cell_type": "code",
   "execution_count": 8,
   "metadata": {
    "collapsed": true
   },
   "outputs": [],
   "source": [
    "d3_meta = []\n",
    "for i, filename in enumerate(filenames):\n",
    "    for j, logtime in enumerate(logtimes):\n",
    "        if int(movtimes[i]) > (int(logtime)-60) and int(movtimes[i]) < (int(logtime)+60):\n",
    "            d3_meta.append([filename, str(movtimes[i]), '/data/%s' % logfiles[j], str(logtime)])"
   ]
  },
  {
   "cell_type": "markdown",
   "metadata": {},
   "source": [
    "#### Get approximate time of p2z1 and append to d3_meta"
   ]
  },
  {
   "cell_type": "code",
   "execution_count": 9,
   "metadata": {
    "collapsed": true
   },
   "outputs": [],
   "source": [
    "def get_p2z1(logfile):\n",
    "    p2z1 = None\n",
    "    with open(logfile, 'r') as f:\n",
    "        for line in f:\n",
    "            if 'pan=143' in line or 'pan=145' in line:\n",
    "                for line in f:\n",
    "                    if 'time' in line[0:4]:\n",
    "                        p2z1 = line.split(' ')[1].strip()\n",
    "                        return p2z1"
   ]
  },
  {
   "cell_type": "code",
   "execution_count": 10,
   "metadata": {
    "collapsed": true
   },
   "outputs": [],
   "source": [
    "for entry in d3_meta:\n",
    "    p2z1 = get_p2z1(entry[2])\n",
    "    entry.append('p2z1')\n",
    "    entry.append(str(p2z1));"
   ]
  },
  {
   "cell_type": "markdown",
   "metadata": {},
   "source": [
    "#### Write out d3_meta"
   ]
  },
  {
   "cell_type": "code",
   "execution_count": 11,
   "metadata": {
    "collapsed": true
   },
   "outputs": [],
   "source": [
    "with open('d3_meta.csv', 'w') as f:\n",
    "    for entry in d3_meta:\n",
    "        f.write('%s,%s,%s,%s,%s,%s\\n' % (entry[0],entry[1],entry[2],entry[3],entry[4],entry[5]))"
   ]
  }
 ],
 "metadata": {
  "kernelspec": {
   "display_name": "Python 3",
   "language": "python",
   "name": "python3"
  },
  "language_info": {
   "codemirror_mode": {
    "name": "ipython",
    "version": 3
   },
   "file_extension": ".py",
   "mimetype": "text/x-python",
   "name": "python",
   "nbconvert_exporter": "python",
   "pygments_lexer": "ipython3",
   "version": "3.6.2"
  }
 },
 "nbformat": 4,
 "nbformat_minor": 2
}
